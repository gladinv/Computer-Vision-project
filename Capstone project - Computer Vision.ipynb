{
 "cells": [
  {
   "cell_type": "code",
   "execution_count": null,
   "id": "b8630555",
   "metadata": {},
   "outputs": [],
   "source": [
    "import numpy as np\n",
    "import cv2"
   ]
  },
  {
   "cell_type": "code",
   "execution_count": null,
   "id": "82123d3d",
   "metadata": {},
   "outputs": [],
   "source": [
    "def av_pix(img,circles,size):\n",
    "    av_value = []\n",
    "    for coords in circles[0,:]:\n",
    "        col = np.mean(img[coords[1]-size:coords[1]+size,coords[0]-size:coords[0]+size])\n",
    "        #print(img[coords[1]-size:coords[1]+size,coords[0]-size:coords[0]+size])\n",
    "        av_value.append(col)\n",
    "    return av_value   "
   ]
  },
  {
   "cell_type": "code",
   "execution_count": null,
   "id": "e4995f05",
   "metadata": {},
   "outputs": [],
   "source": [
    "def get_radius(circles):\n",
    "    radius = []\n",
    "    for coords in circles[0,:]:\n",
    "        radius.append(coords[2])    \n",
    "    return radius"
   ]
  },
  {
   "cell_type": "code",
   "execution_count": null,
   "id": "2f7fefda",
   "metadata": {},
   "outputs": [],
   "source": [
    "img = cv2.imread('capstone_coins.png',cv2.IMREAD_GRAYSCALE)\n",
    "original_image = cv2.imread('capstone_coins.png',1)\n",
    "img = cv2.GaussianBlur(img, (5,5), 0)"
   ]
  },
  {
   "cell_type": "code",
   "execution_count": null,
   "id": "76b32181",
   "metadata": {},
   "outputs": [],
   "source": [
    "circles = cv2.HoughCircles(img,cv2.HOUGH_GRADIENT,0.9,120,param1=50,param2=27,minRadius=60,maxRadius=120)"
   ]
  },
  {
   "cell_type": "code",
   "execution_count": null,
   "id": "5cc77042",
   "metadata": {},
   "outputs": [],
   "source": [
    "print(circles)"
   ]
  },
  {
   "cell_type": "code",
   "execution_count": null,
   "id": "97958282",
   "metadata": {},
   "outputs": [],
   "source": [
    "circles = np.uint16(np.around(circles))\n",
    "count = 1\n",
    "for i in circles[0,:]:\n",
    "    \n",
    "    # draw the outer circle\n",
    "    cv2.circle(original_image,(i[0],i[1]),i[2],(0,255,0),2)\n",
    "    # draw the center of the circle\n",
    "    cv2.circle(original_image,(i[0],i[1]),2,(0,0,255),3)\n",
    "    #cv2.putText(original_image, str(count),(i[0],i[1]), cv2.FONT_HERSHEY_SIMPLEX, 2, (0,0,0), 2)\n",
    "    count += 1"
   ]
  },
  {
   "cell_type": "code",
   "execution_count": null,
   "id": "f9b79b19",
   "metadata": {},
   "outputs": [],
   "source": [
    "radii = get_radius(circles)\n",
    "print(radii)"
   ]
  },
  {
   "cell_type": "code",
   "execution_count": null,
   "id": "7b4cf8db",
   "metadata": {},
   "outputs": [],
   "source": [
    "bright_values = av_pix(img,circles,20)\n",
    "print(bright_values)"
   ]
  },
  {
   "cell_type": "code",
   "execution_count": null,
   "id": "7b60614c",
   "metadata": {},
   "outputs": [],
   "source": [
    "values = []\n",
    "for a,b in zip(bright_values,radii):\n",
    "    if a > 150 and b > 110:\n",
    "        values.append(10)\n",
    "    elif a > 150 and b <= 110:\n",
    "        values.append(5)\n",
    "    elif a < 150 and b > 110:\n",
    "        values.append(2)\n",
    "    elif a < 150 and b < 110:\n",
    "        values.append(1)        \n",
    "print(values)      "
   ]
  },
  {
   "cell_type": "code",
   "execution_count": null,
   "id": "4024c5d5",
   "metadata": {},
   "outputs": [],
   "source": [
    "count_2 = 0\n",
    "for i in circles[0,:]:\n",
    "    \n",
    "    cv2.putText(original_image, str(values[count_2]) + 'p',(i[0],i[1]), cv2.FONT_HERSHEY_SIMPLEX, 2, (0,0,0), 2)\n",
    "    count_2 += 1\n",
    "cv2.putText(original_image, 'ESTIMATED TOTAL VALUE: ' + str(sum(values)) + 'p', (200,100), cv2.FONT_HERSHEY_SIMPLEX, 1.3, 255)"
   ]
  },
  {
   "cell_type": "code",
   "execution_count": null,
   "id": "59f27844",
   "metadata": {},
   "outputs": [],
   "source": [
    "cv2.imshow('Detected Coins',original_image)\n",
    "cv2.waitKey(0)\n",
    "cv2.destroyAllWindows()"
   ]
  }
 ],
 "metadata": {
  "kernelspec": {
   "display_name": "Python 3 (ipykernel)",
   "language": "python",
   "name": "python3"
  },
  "language_info": {
   "codemirror_mode": {
    "name": "ipython",
    "version": 3
   },
   "file_extension": ".py",
   "mimetype": "text/x-python",
   "name": "python",
   "nbconvert_exporter": "python",
   "pygments_lexer": "ipython3",
   "version": "3.9.12"
  }
 },
 "nbformat": 4,
 "nbformat_minor": 5
}
